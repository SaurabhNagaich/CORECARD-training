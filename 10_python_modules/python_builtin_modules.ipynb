{
 "cells": [
  {
   "cell_type": "code",
   "execution_count": 3,
   "metadata": {},
   "outputs": [
    {
     "name": "stdout",
     "output_type": "stream",
     "text": [
      "Hello CoreCard!\n"
     ]
    }
   ],
   "source": [
    "print('Hello CoreCard!')"
   ]
  },
  {
   "cell_type": "markdown",
   "metadata": {},
   "source": [
    "Pythom built-in modules are documented in the following link:\n",
    "https://docs.python.org/3/py-modindex.html"
   ]
  },
  {
   "cell_type": "markdown",
   "metadata": {},
   "source": [
    "### 1. The datetime Module"
   ]
  },
  {
   "cell_type": "code",
   "execution_count": 5,
   "metadata": {},
   "outputs": [],
   "source": [
    "from datetime import datetime"
   ]
  },
  {
   "cell_type": "code",
   "execution_count": 6,
   "metadata": {},
   "outputs": [
    {
     "data": {
      "text/plain": [
       "datetime.datetime(2022, 6, 27, 18, 2, 24, 148320)"
      ]
     },
     "execution_count": 6,
     "metadata": {},
     "output_type": "execute_result"
    }
   ],
   "source": [
    "t = datetime.now()\n",
    "t"
   ]
  },
  {
   "cell_type": "code",
   "execution_count": 7,
   "metadata": {},
   "outputs": [
    {
     "data": {
      "text/plain": [
       "(2022, 6, 27)"
      ]
     },
     "execution_count": 7,
     "metadata": {},
     "output_type": "execute_result"
    }
   ],
   "source": [
    "t.year, t.month, t.day"
   ]
  },
  {
   "cell_type": "code",
   "execution_count": 8,
   "metadata": {},
   "outputs": [
    {
     "data": {
      "text/plain": [
       "(18, 2, 24)"
      ]
     },
     "execution_count": 8,
     "metadata": {},
     "output_type": "execute_result"
    }
   ],
   "source": [
    "t.hour, t.minute, t.second"
   ]
  },
  {
   "cell_type": "code",
   "execution_count": 10,
   "metadata": {},
   "outputs": [
    {
     "data": {
      "text/plain": [
       "0"
      ]
     },
     "execution_count": 10,
     "metadata": {},
     "output_type": "execute_result"
    }
   ],
   "source": [
    "t.weekday()"
   ]
  },
  {
   "cell_type": "code",
   "execution_count": 11,
   "metadata": {},
   "outputs": [],
   "source": [
    "# 27 June, 2022 6:02 PM\n",
    "# strftime()"
   ]
  },
  {
   "cell_type": "code",
   "execution_count": 12,
   "metadata": {},
   "outputs": [],
   "source": [
    "f = \"%d %B, %Y %I:%M %p\""
   ]
  },
  {
   "cell_type": "code",
   "execution_count": 13,
   "metadata": {},
   "outputs": [
    {
     "data": {
      "text/plain": [
       "'27 June, 2022 06:02 PM'"
      ]
     },
     "execution_count": 13,
     "metadata": {},
     "output_type": "execute_result"
    }
   ],
   "source": [
    "t.strftime(f)"
   ]
  },
  {
   "cell_type": "code",
   "execution_count": 14,
   "metadata": {},
   "outputs": [],
   "source": [
    "# datetime arithmetic"
   ]
  },
  {
   "cell_type": "code",
   "execution_count": 15,
   "metadata": {},
   "outputs": [],
   "source": [
    "t1 = datetime.now()"
   ]
  },
  {
   "cell_type": "code",
   "execution_count": 16,
   "metadata": {},
   "outputs": [
    {
     "data": {
      "text/plain": [
       "datetime.timedelta(seconds=754, microseconds=773943)"
      ]
     },
     "execution_count": 16,
     "metadata": {},
     "output_type": "execute_result"
    }
   ],
   "source": [
    "t1 - t"
   ]
  },
  {
   "cell_type": "markdown",
   "metadata": {},
   "source": [
    "### 2. The operator Module"
   ]
  },
  {
   "cell_type": "code",
   "execution_count": 17,
   "metadata": {},
   "outputs": [],
   "source": [
    "from operator import itemgetter"
   ]
  },
  {
   "cell_type": "code",
   "execution_count": 18,
   "metadata": {},
   "outputs": [
    {
     "data": {
      "text/plain": [
       "'p'"
      ]
     },
     "execution_count": 18,
     "metadata": {},
     "output_type": "execute_result"
    }
   ],
   "source": [
    "itemgetter(1)(\"apples\")"
   ]
  },
  {
   "cell_type": "code",
   "execution_count": 19,
   "metadata": {},
   "outputs": [
    {
     "data": {
      "text/plain": [
       "'bananas'"
      ]
     },
     "execution_count": 19,
     "metadata": {},
     "output_type": "execute_result"
    }
   ],
   "source": [
    "itemgetter(1)([\"apples\", \"bananas\", \"cherries\"])"
   ]
  },
  {
   "cell_type": "code",
   "execution_count": 20,
   "metadata": {},
   "outputs": [
    {
     "data": {
      "text/plain": [
       "'bananas'"
      ]
     },
     "execution_count": 20,
     "metadata": {},
     "output_type": "execute_result"
    }
   ],
   "source": [
    "itemgetter(1)([(\"apples\", 1), \"bananas\"])"
   ]
  },
  {
   "cell_type": "code",
   "execution_count": 21,
   "metadata": {},
   "outputs": [
    {
     "data": {
      "text/plain": [
       "['blue', 'green', 'pink', 'red', 'yellow']"
      ]
     },
     "execution_count": 21,
     "metadata": {},
     "output_type": "execute_result"
    }
   ],
   "source": [
    "L = [\"red\", \"green\", \"blue\", \"yellow\", \"pink\"]\n",
    "L.sort()\n",
    "L"
   ]
  },
  {
   "cell_type": "code",
   "execution_count": 22,
   "metadata": {},
   "outputs": [],
   "source": [
    "f = itemgetter(-1)"
   ]
  },
  {
   "cell_type": "code",
   "execution_count": 24,
   "metadata": {},
   "outputs": [
    {
     "data": {
      "text/plain": [
       "operator.itemgetter"
      ]
     },
     "execution_count": 24,
     "metadata": {},
     "output_type": "execute_result"
    }
   ],
   "source": [
    "type(f)"
   ]
  },
  {
   "cell_type": "code",
   "execution_count": 25,
   "metadata": {},
   "outputs": [
    {
     "data": {
      "text/plain": [
       "['red', 'blue', 'pink', 'green', 'yellow']"
      ]
     },
     "execution_count": 25,
     "metadata": {},
     "output_type": "execute_result"
    }
   ],
   "source": [
    "L.sort(key=f)\n",
    "L"
   ]
  },
  {
   "cell_type": "markdown",
   "metadata": {},
   "source": [
    "### 3. The collections Module"
   ]
  },
  {
   "cell_type": "code",
   "execution_count": 26,
   "metadata": {},
   "outputs": [],
   "source": [
    "L = [\"red\", \"green\", \"blue\", \"yellow\", \"pink\", \"red\", \"pink\", \"red\"]"
   ]
  },
  {
   "cell_type": "code",
   "execution_count": 27,
   "metadata": {},
   "outputs": [],
   "source": [
    "D = {}\n",
    "for item in L:\n",
    "    if item in D.keys():\n",
    "        D[item] = D[item] + 1\n",
    "    else:\n",
    "        D[item] = 1"
   ]
  },
  {
   "cell_type": "code",
   "execution_count": 28,
   "metadata": {},
   "outputs": [
    {
     "data": {
      "text/plain": [
       "{'red': 3, 'green': 1, 'blue': 1, 'yellow': 1, 'pink': 2}"
      ]
     },
     "execution_count": 28,
     "metadata": {},
     "output_type": "execute_result"
    }
   ],
   "source": [
    "D"
   ]
  },
  {
   "cell_type": "markdown",
   "metadata": {},
   "source": [
    "#### from collections import Counter\n",
    "z = Counter(L)\n",
    "print(z)"
   ]
  },
  {
   "cell_type": "markdown",
   "metadata": {},
   "source": [
    "### 4. The functools Module"
   ]
  },
  {
   "cell_type": "code",
   "execution_count": 30,
   "metadata": {},
   "outputs": [],
   "source": [
    "from functools import reduce"
   ]
  },
  {
   "cell_type": "code",
   "execution_count": 33,
   "metadata": {},
   "outputs": [
    {
     "data": {
      "text/plain": [
       "[1, 2, 3, 4, 5]"
      ]
     },
     "execution_count": 33,
     "metadata": {},
     "output_type": "execute_result"
    }
   ],
   "source": [
    "L = list(range(1, 6))\n",
    "L"
   ]
  },
  {
   "cell_type": "code",
   "execution_count": 34,
   "metadata": {},
   "outputs": [
    {
     "data": {
      "text/plain": [
       "15"
      ]
     },
     "execution_count": 34,
     "metadata": {},
     "output_type": "execute_result"
    }
   ],
   "source": [
    "reduce(lambda a,b : a+b, L)"
   ]
  },
  {
   "cell_type": "code",
   "execution_count": 36,
   "metadata": {},
   "outputs": [
    {
     "data": {
      "text/plain": [
       "['a', 'p', 'p', 'l', 'e', 's']"
      ]
     },
     "execution_count": 36,
     "metadata": {},
     "output_type": "execute_result"
    }
   ],
   "source": [
    "L = list(\"apples\")\n",
    "L"
   ]
  },
  {
   "cell_type": "code",
   "execution_count": 40,
   "metadata": {},
   "outputs": [
    {
     "data": {
      "text/plain": [
       "'aappaappppaappaappppllaappaappppaappaapppplleeaappaappppaappaappppllaappaappppaappaapppplleess'"
      ]
     },
     "execution_count": 40,
     "metadata": {},
     "output_type": "execute_result"
    }
   ],
   "source": [
    "reduce(lambda a, b : a*2 + b *2, L)"
   ]
  },
  {
   "cell_type": "code",
   "execution_count": 42,
   "metadata": {},
   "outputs": [],
   "source": [
    "L = [ (\"apples\", 2), (\"bananas\", 3), (\"cherries\", 4)]"
   ]
  },
  {
   "cell_type": "code",
   "execution_count": 46,
   "metadata": {},
   "outputs": [
    {
     "data": {
      "text/plain": [
       "9"
      ]
     },
     "execution_count": 46,
     "metadata": {},
     "output_type": "execute_result"
    }
   ],
   "source": [
    "reduce(lambda a, b : a+b, [item[1] for item in L])"
   ]
  },
  {
   "cell_type": "markdown",
   "metadata": {},
   "source": [
    "### 5. The itertools Module"
   ]
  },
  {
   "cell_type": "code",
   "execution_count": 47,
   "metadata": {},
   "outputs": [],
   "source": [
    "from itertools import permutations, combinations"
   ]
  },
  {
   "cell_type": "code",
   "execution_count": 48,
   "metadata": {},
   "outputs": [],
   "source": [
    "s = 'ABCDE'"
   ]
  },
  {
   "cell_type": "code",
   "execution_count": 51,
   "metadata": {},
   "outputs": [
    {
     "data": {
      "text/plain": [
       "['ABCD',\n",
       " 'ABCE',\n",
       " 'ABDC',\n",
       " 'ABDE',\n",
       " 'ABEC',\n",
       " 'ABED',\n",
       " 'ACBD',\n",
       " 'ACBE',\n",
       " 'ACDB',\n",
       " 'ACDE',\n",
       " 'ACEB',\n",
       " 'ACED',\n",
       " 'ADBC',\n",
       " 'ADBE',\n",
       " 'ADCB',\n",
       " 'ADCE',\n",
       " 'ADEB',\n",
       " 'ADEC',\n",
       " 'AEBC',\n",
       " 'AEBD',\n",
       " 'AECB',\n",
       " 'AECD',\n",
       " 'AEDB',\n",
       " 'AEDC',\n",
       " 'BACD',\n",
       " 'BACE',\n",
       " 'BADC',\n",
       " 'BADE',\n",
       " 'BAEC',\n",
       " 'BAED',\n",
       " 'BCAD',\n",
       " 'BCAE',\n",
       " 'BCDA',\n",
       " 'BCDE',\n",
       " 'BCEA',\n",
       " 'BCED',\n",
       " 'BDAC',\n",
       " 'BDAE',\n",
       " 'BDCA',\n",
       " 'BDCE',\n",
       " 'BDEA',\n",
       " 'BDEC',\n",
       " 'BEAC',\n",
       " 'BEAD',\n",
       " 'BECA',\n",
       " 'BECD',\n",
       " 'BEDA',\n",
       " 'BEDC',\n",
       " 'CABD',\n",
       " 'CABE',\n",
       " 'CADB',\n",
       " 'CADE',\n",
       " 'CAEB',\n",
       " 'CAED',\n",
       " 'CBAD',\n",
       " 'CBAE',\n",
       " 'CBDA',\n",
       " 'CBDE',\n",
       " 'CBEA',\n",
       " 'CBED',\n",
       " 'CDAB',\n",
       " 'CDAE',\n",
       " 'CDBA',\n",
       " 'CDBE',\n",
       " 'CDEA',\n",
       " 'CDEB',\n",
       " 'CEAB',\n",
       " 'CEAD',\n",
       " 'CEBA',\n",
       " 'CEBD',\n",
       " 'CEDA',\n",
       " 'CEDB',\n",
       " 'DABC',\n",
       " 'DABE',\n",
       " 'DACB',\n",
       " 'DACE',\n",
       " 'DAEB',\n",
       " 'DAEC',\n",
       " 'DBAC',\n",
       " 'DBAE',\n",
       " 'DBCA',\n",
       " 'DBCE',\n",
       " 'DBEA',\n",
       " 'DBEC',\n",
       " 'DCAB',\n",
       " 'DCAE',\n",
       " 'DCBA',\n",
       " 'DCBE',\n",
       " 'DCEA',\n",
       " 'DCEB',\n",
       " 'DEAB',\n",
       " 'DEAC',\n",
       " 'DEBA',\n",
       " 'DEBC',\n",
       " 'DECA',\n",
       " 'DECB',\n",
       " 'EABC',\n",
       " 'EABD',\n",
       " 'EACB',\n",
       " 'EACD',\n",
       " 'EADB',\n",
       " 'EADC',\n",
       " 'EBAC',\n",
       " 'EBAD',\n",
       " 'EBCA',\n",
       " 'EBCD',\n",
       " 'EBDA',\n",
       " 'EBDC',\n",
       " 'ECAB',\n",
       " 'ECAD',\n",
       " 'ECBA',\n",
       " 'ECBD',\n",
       " 'ECDA',\n",
       " 'ECDB',\n",
       " 'EDAB',\n",
       " 'EDAC',\n",
       " 'EDBA',\n",
       " 'EDBC',\n",
       " 'EDCA',\n",
       " 'EDCB']"
      ]
     },
     "execution_count": 51,
     "metadata": {},
     "output_type": "execute_result"
    }
   ],
   "source": [
    "[''.join(item) for item in list(permutations(s, 4))]"
   ]
  },
  {
   "cell_type": "code",
   "execution_count": 54,
   "metadata": {},
   "outputs": [
    {
     "data": {
      "text/plain": [
       "['ABC', 'ABD', 'ABE', 'ACD', 'ACE', 'ADE', 'BCD', 'BCE', 'BDE', 'CDE']"
      ]
     },
     "execution_count": 54,
     "metadata": {},
     "output_type": "execute_result"
    }
   ],
   "source": [
    "[''.join(item) for item in list(combinations(s, 3))]"
   ]
  },
  {
   "cell_type": "markdown",
   "metadata": {},
   "source": [
    "### 6. The statistics Module"
   ]
  },
  {
   "cell_type": "code",
   "execution_count": 55,
   "metadata": {},
   "outputs": [],
   "source": [
    "import statistics\n",
    "import random"
   ]
  },
  {
   "cell_type": "code",
   "execution_count": 56,
   "metadata": {},
   "outputs": [
    {
     "data": {
      "text/plain": [
       "[135,\n",
       " 145,\n",
       " 169,\n",
       " 144,\n",
       " 42,\n",
       " 137,\n",
       " 195,\n",
       " 46,\n",
       " 147,\n",
       " 146,\n",
       " 196,\n",
       " 117,\n",
       " 170,\n",
       " 54,\n",
       " 144,\n",
       " 105,\n",
       " 160,\n",
       " 106,\n",
       " 161,\n",
       " 183,\n",
       " 57,\n",
       " 5,\n",
       " 94,\n",
       " 160,\n",
       " 166,\n",
       " 24,\n",
       " 99,\n",
       " 2,\n",
       " 132,\n",
       " 102,\n",
       " 113,\n",
       " 34,\n",
       " 111,\n",
       " 135,\n",
       " 14,\n",
       " 99,\n",
       " 151,\n",
       " 195,\n",
       " 77,\n",
       " 107,\n",
       " 143,\n",
       " 158,\n",
       " 195,\n",
       " 119,\n",
       " 80,\n",
       " 54,\n",
       " 81,\n",
       " 3,\n",
       " 29,\n",
       " 59,\n",
       " 100,\n",
       " 121,\n",
       " 37,\n",
       " 181,\n",
       " 43,\n",
       " 87,\n",
       " 51,\n",
       " 82,\n",
       " 15,\n",
       " 98,\n",
       " 57,\n",
       " 19,\n",
       " 120,\n",
       " 182,\n",
       " 86,\n",
       " 69,\n",
       " 72,\n",
       " 116,\n",
       " 116,\n",
       " 119,\n",
       " 68,\n",
       " 39,\n",
       " 83,\n",
       " 49,\n",
       " 40,\n",
       " 7,\n",
       " 136,\n",
       " 99,\n",
       " 9,\n",
       " 107,\n",
       " 68,\n",
       " 139,\n",
       " 50,\n",
       " 200,\n",
       " 198,\n",
       " 92,\n",
       " 102,\n",
       " 157,\n",
       " 13,\n",
       " 133,\n",
       " 182,\n",
       " 110,\n",
       " 119,\n",
       " 111,\n",
       " 130,\n",
       " 89,\n",
       " 165,\n",
       " 85,\n",
       " 142,\n",
       " 101]"
      ]
     },
     "execution_count": 56,
     "metadata": {},
     "output_type": "execute_result"
    }
   ],
   "source": [
    "R = [random.randint(1, 200) for i in range(100)]\n",
    "R"
   ]
  },
  {
   "cell_type": "code",
   "execution_count": 58,
   "metadata": {},
   "outputs": [
    {
     "data": {
      "text/plain": [
       "102.94"
      ]
     },
     "execution_count": 58,
     "metadata": {},
     "output_type": "execute_result"
    }
   ],
   "source": [
    "statistics.mean(R)"
   ]
  },
  {
   "cell_type": "code",
   "execution_count": 59,
   "metadata": {},
   "outputs": [
    {
     "data": {
      "text/plain": [
       "105.5"
      ]
     },
     "execution_count": 59,
     "metadata": {},
     "output_type": "execute_result"
    }
   ],
   "source": [
    "statistics.median(R)"
   ]
  },
  {
   "cell_type": "code",
   "execution_count": 61,
   "metadata": {},
   "outputs": [
    {
     "data": {
      "text/plain": [
       "2"
      ]
     },
     "execution_count": 61,
     "metadata": {},
     "output_type": "execute_result"
    }
   ],
   "source": [
    "R1 = [1, 2, 2, 2, 2, 3, 4]\n",
    "statistics.mode(R1)"
   ]
  },
  {
   "cell_type": "code",
   "execution_count": 62,
   "metadata": {},
   "outputs": [
    {
     "data": {
      "text/plain": [
       "53.23206673888333"
      ]
     },
     "execution_count": 62,
     "metadata": {},
     "output_type": "execute_result"
    }
   ],
   "source": [
    "statistics.stdev(R)"
   ]
  },
  {
   "cell_type": "code",
   "execution_count": null,
   "metadata": {},
   "outputs": [],
   "source": []
  }
 ],
 "metadata": {
  "kernelspec": {
   "display_name": "Python 3",
   "language": "python",
   "name": "python3"
  },
  "language_info": {
   "codemirror_mode": {
    "name": "ipython",
    "version": 3
   },
   "file_extension": ".py",
   "mimetype": "text/x-python",
   "name": "python",
   "nbconvert_exporter": "python",
   "pygments_lexer": "ipython3",
   "version": "3.7.3"
  }
 },
 "nbformat": 4,
 "nbformat_minor": 2
}
